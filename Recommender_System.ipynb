{
 "cells": [
  {
   "cell_type": "code",
   "execution_count": 24,
   "metadata": {},
   "outputs": [
    {
     "data": {
      "text/html": [
       "<div>\n",
       "<style scoped>\n",
       "    .dataframe tbody tr th:only-of-type {\n",
       "        vertical-align: middle;\n",
       "    }\n",
       "\n",
       "    .dataframe tbody tr th {\n",
       "        vertical-align: top;\n",
       "    }\n",
       "\n",
       "    .dataframe thead th {\n",
       "        text-align: right;\n",
       "    }\n",
       "</style>\n",
       "<table border=\"1\" class=\"dataframe\">\n",
       "  <thead>\n",
       "    <tr style=\"text-align: right;\">\n",
       "      <th></th>\n",
       "      <th>userId</th>\n",
       "      <th>movieId</th>\n",
       "      <th>rating</th>\n",
       "      <th>timestamp</th>\n",
       "    </tr>\n",
       "  </thead>\n",
       "  <tbody>\n",
       "    <tr>\n",
       "      <th>0</th>\n",
       "      <td>1</td>\n",
       "      <td>1</td>\n",
       "      <td>4.0</td>\n",
       "      <td>964982703</td>\n",
       "    </tr>\n",
       "    <tr>\n",
       "      <th>1</th>\n",
       "      <td>1</td>\n",
       "      <td>3</td>\n",
       "      <td>4.0</td>\n",
       "      <td>964981247</td>\n",
       "    </tr>\n",
       "    <tr>\n",
       "      <th>2</th>\n",
       "      <td>1</td>\n",
       "      <td>6</td>\n",
       "      <td>4.0</td>\n",
       "      <td>964982224</td>\n",
       "    </tr>\n",
       "    <tr>\n",
       "      <th>3</th>\n",
       "      <td>1</td>\n",
       "      <td>47</td>\n",
       "      <td>5.0</td>\n",
       "      <td>964983815</td>\n",
       "    </tr>\n",
       "    <tr>\n",
       "      <th>4</th>\n",
       "      <td>1</td>\n",
       "      <td>50</td>\n",
       "      <td>5.0</td>\n",
       "      <td>964982931</td>\n",
       "    </tr>\n",
       "  </tbody>\n",
       "</table>\n",
       "</div>"
      ],
      "text/plain": [
       "   userId  movieId  rating  timestamp\n",
       "0       1        1     4.0  964982703\n",
       "1       1        3     4.0  964981247\n",
       "2       1        6     4.0  964982224\n",
       "3       1       47     5.0  964983815\n",
       "4       1       50     5.0  964982931"
      ]
     },
     "execution_count": 24,
     "metadata": {},
     "output_type": "execute_result"
    }
   ],
   "source": [
    "import pandas as pd\n",
    "import csv\n",
    "import numpy as np\n",
    "df = pd.read_csv(\"ratings.csv\")\n",
    "mf = pd.read_csv(\"movies.csv\")\n",
    "df.head(5)"
   ]
  },
  {
   "cell_type": "code",
   "execution_count": 25,
   "metadata": {},
   "outputs": [],
   "source": [
    "N = df.shape[0]\n",
    "movies = mf.shape[0]\n",
    "users = max(df['userId'])\n",
    " \n"
   ]
  },
  {
   "cell_type": "code",
   "execution_count": 26,
   "metadata": {},
   "outputs": [],
   "source": [
    "m_idx = {}\n",
    "for x in range(movies):\n",
    "    m_idx[mf['movieId'][x]] = x + 1\n",
    "\n",
    "m_list = {}\n",
    "for x in range(movies):\n",
    "    m_list[x + 1] = mf['title'][x]"
   ]
  },
  {
   "cell_type": "code",
   "execution_count": 27,
   "metadata": {},
   "outputs": [],
   "source": [
    "def pearson_dist(p1, p2): # p1 and p2 are vectors\n",
    "    \n",
    "    p1 = np.array(p1)\n",
    "    p2 = np.array(p2)\n",
    "    \n",
    "    n1 = np.count_nonzero(p1)\n",
    "    n2 = np.count_nonzero(p1)\n",
    "    \n",
    "    if(n1*n2 == 0):\n",
    "        return 0\n",
    "    \n",
    "    u1 = np.sum(p1)/n1 # the mean of p1 \n",
    "    u2 = np.sum(p2)/n2 # the mean of p2\n",
    "    \n",
    "    cor = np.dot(p1 - u1, p2 - u2)\n",
    "    std1 = np.dot(np.transpose(p1 - u1), p1 - u1)**(1/2)\n",
    "    std2 = np.dot(np.transpose(p2 - u2), p2 - u2)**(1/2)\n",
    "    \n",
    "    if(std1*std2 == 0):\n",
    "        return 0\n",
    "\n",
    "    ans = cor/(std1*std2)\n",
    "    \n",
    "    return ans"
   ]
  },
  {
   "cell_type": "code",
   "execution_count": 28,
   "metadata": {},
   "outputs": [],
   "source": [
    "def make_matrix(df):\n",
    "    \n",
    "    M = np.zeros((movies + 1, users + 1))\n",
    "    \n",
    "    for x in range(N):\n",
    "        M[m_idx[df['movieId'][x]]][df['userId'][x]] = df['rating'][x]\n",
    "    return M\n",
    "\n",
    "M = make_matrix(df)"
   ]
  },
  {
   "cell_type": "code",
   "execution_count": 29,
   "metadata": {},
   "outputs": [],
   "source": [
    "def make_sim_matrix(M):\n",
    "    \n",
    "    S = np.zeros((users + 1, users + 1))\n",
    "    \n",
    "    for x in range(1, users + 1):\n",
    "        for y in range(1, users + 1):\n",
    "            if(x - y != 0):\n",
    "                S[x][y] = pearson_dist(M[:][x], M[:][y])\n",
    "\n",
    "    return S\n",
    "\n",
    "S = make_sim_matrix(M)"
   ]
  },
  {
   "cell_type": "code",
   "execution_count": 64,
   "metadata": {},
   "outputs": [],
   "source": [
    "def fun(x):\n",
    "    if(x > 0):\n",
    "        return 0.000000001\n",
    "    return 1\n",
    "\n",
    "def user_movie_recommendation(ID):  # X is the users preferences \n",
    "    \n",
    "    X = S[range(users)][ID] \n",
    "    Y = np.dot(M, X)\n",
    "    B = Y\n",
    "    for i in range(movies + 1):\n",
    "        B[i] = fun(M[i][ID])\n",
    "    Y = np.multiply(B, Y)\n",
    "    A = Y.argsort()[-10:][::-1]\n",
    "\n",
    "    rec_movies = []\n",
    "\n",
    "    for x in A:\n",
    "        rec_movies.append(m_list[x])\n",
    "\n",
    "    for x in rec_movies:\n",
    "        print(x, '\\n')\n",
    "        \n",
    "    return \n"
   ]
  },
  {
   "cell_type": "code",
   "execution_count": 69,
   "metadata": {},
   "outputs": [
    {
     "name": "stdout",
     "output_type": "stream",
     "text": [
      "Andrew Dice Clay: Dice Rules (1991) \n",
      "\n",
      "Lean on Me (1989) \n",
      "\n",
      "Jurassic Park III (2001) \n",
      "\n",
      "Punisher, The (1989) \n",
      "\n",
      "Pink Cadillac (1989) \n",
      "\n",
      "Penn & Teller Get Killed (1989) \n",
      "\n",
      "Package, The (1989) \n",
      "\n",
      "No Holds Barred (1989) \n",
      "\n",
      "Next of Kin (1989) \n",
      "\n",
      "New York Stories (1989) \n",
      "\n"
     ]
    }
   ],
   "source": [
    "\n",
    "user_movie_recommendation(199)"
   ]
  }
 ],
 "metadata": {
  "kernelspec": {
   "display_name": "Python 3",
   "language": "python",
   "name": "python3"
  },
  "language_info": {
   "codemirror_mode": {
    "name": "ipython",
    "version": 3
   },
   "file_extension": ".py",
   "mimetype": "text/x-python",
   "name": "python",
   "nbconvert_exporter": "python",
   "pygments_lexer": "ipython3",
   "version": "3.7.0"
  }
 },
 "nbformat": 4,
 "nbformat_minor": 2
}
